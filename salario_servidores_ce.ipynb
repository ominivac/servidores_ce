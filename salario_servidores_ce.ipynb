{
  "nbformat": 4,
  "nbformat_minor": 0,
  "metadata": {
    "colab": {
      "provenance": []
    },
    "kernelspec": {
      "name": "python3",
      "display_name": "Python 3"
    },
    "language_info": {
      "name": "python"
    }
  },
  "cells": [
    {
      "cell_type": "code",
      "execution_count": null,
      "metadata": {
        "id": "gH7JROQNW_Ct"
      },
      "outputs": [],
      "source": [
        "#Importação das bibliotecas necessárias"
      ]
    },
    {
      "cell_type": "code",
      "source": [
        "import numpy as np\n",
        "import pandas as pd\n",
        "import gc\n",
        "import glob\n",
        "\n",
        "import hashlib\n",
        "\n",
        "import os\n",
        "import calendar"
      ],
      "metadata": {
        "id": "Elxp8bgnXMiJ"
      },
      "execution_count": null,
      "outputs": []
    },
    {
      "cell_type": "code",
      "source": [
        "# Necessário para leitura do google drive\n",
        "from google.colab import drive\n",
        "drive.mount('/content/drive')"
      ],
      "metadata": {
        "colab": {
          "base_uri": "https://localhost:8080/"
        },
        "id": "iwuy9XiIXUjd",
        "outputId": "49a9885a-7888-4645-f9c4-982927a126a0"
      },
      "execution_count": null,
      "outputs": [
        {
          "output_type": "stream",
          "name": "stdout",
          "text": [
            "Mounted at /content/drive\n"
          ]
        }
      ]
    },
    {
      "cell_type": "code",
      "source": [
        "path = '/content/drive/My Drive/SERVIDORES_CE/2023/'    # use your path\n",
        "arr = os.listdir(path)\n",
        "print(arr)"
      ],
      "metadata": {
        "colab": {
          "base_uri": "https://localhost:8080/"
        },
        "id": "4k3NKxyaXZqS",
        "outputId": "777cc84a-9a5a-4667-9ed8-b6b27357a971"
      },
      "execution_count": null,
      "outputs": [
        {
          "output_type": "stream",
          "name": "stdout",
          "text": [
            "['servidores_202301.csv', 'servidores_202302.csv', 'servidores_202303.csv', 'servidores_202304.csv', 'servidores_202305.csv', 'servidores_202306.csv', 'servidores_202307.csv', 'servidores_202308.csv', 'servidores_202309.csv', 'servidores_202310.csv', 'servidores_202311.csv', 'servidores_202312.csv']\n"
          ]
        }
      ]
    },
    {
      "cell_type": "code",
      "source": [
        "all_files = glob.glob(os.path.join(path, \"*.csv\"))                             # advisable to use os.path.join as this makes concatenation OS independent\n",
        "print(all_files)"
      ],
      "metadata": {
        "colab": {
          "base_uri": "https://localhost:8080/"
        },
        "id": "B_Mf4DxAYkcE",
        "outputId": "c730e44f-c93c-4dd5-cb91-e401b6af6806"
      },
      "execution_count": null,
      "outputs": [
        {
          "output_type": "stream",
          "name": "stdout",
          "text": [
            "['/content/drive/My Drive/SERVIDORES_CE/2023/servidores_202301.csv', '/content/drive/My Drive/SERVIDORES_CE/2023/servidores_202302.csv', '/content/drive/My Drive/SERVIDORES_CE/2023/servidores_202303.csv', '/content/drive/My Drive/SERVIDORES_CE/2023/servidores_202304.csv', '/content/drive/My Drive/SERVIDORES_CE/2023/servidores_202305.csv', '/content/drive/My Drive/SERVIDORES_CE/2023/servidores_202306.csv', '/content/drive/My Drive/SERVIDORES_CE/2023/servidores_202307.csv', '/content/drive/My Drive/SERVIDORES_CE/2023/servidores_202308.csv', '/content/drive/My Drive/SERVIDORES_CE/2023/servidores_202309.csv', '/content/drive/My Drive/SERVIDORES_CE/2023/servidores_202310.csv', '/content/drive/My Drive/SERVIDORES_CE/2023/servidores_202311.csv', '/content/drive/My Drive/SERVIDORES_CE/2023/servidores_202312.csv']\n"
          ]
        }
      ]
    },
    {
      "cell_type": "code",
      "source": [
        "#df_from_each_file = (pd.read_csv(f, low_memory=False, sep=',') for f in all_files)\n",
        "#df_2023  = pd.concat(df_from_each_file, ignore_index=True, axis=0)"
      ],
      "metadata": {
        "id": "xfjeRINQXsu0"
      },
      "execution_count": null,
      "outputs": []
    },
    {
      "cell_type": "code",
      "source": [],
      "metadata": {
        "id": "GMovZxjxiApy"
      },
      "execution_count": null,
      "outputs": []
    },
    {
      "cell_type": "code",
      "source": [
        "colnames_jan=['serv', 'orgao', \t'cargo_jan', 'sit_jan',\t'tot_desc_jan', 'abt_teto_jan', 'outros_desc_jan', 'sal_bruto_jan', 'sal_liquido_jan', 'diar_jan' ]"
      ],
      "metadata": {
        "id": "ssWwKV1Ei8M0"
      },
      "execution_count": null,
      "outputs": []
    },
    {
      "cell_type": "code",
      "source": [
        "colnames_fev=['serv', 'orgao', \t'cargo_fev', 'sit_fev',\t'tot_desc_fev', 'abt_teto_fev', 'outros_desc_fev', 'sal_bruto_fev', 'sal_liquido_fev', 'diar_fev' ]"
      ],
      "metadata": {
        "id": "AnC5tdy6dbx-"
      },
      "execution_count": null,
      "outputs": []
    },
    {
      "cell_type": "code",
      "source": [
        "df_jan = pd.read_csv('/content/drive/My Drive/SERVIDORES_CE/2023/servidores_202301.csv', low_memory=False, sep=',' , names = colnames_jan, header= None )"
      ],
      "metadata": {
        "id": "xIfohzG3ZVM_"
      },
      "execution_count": null,
      "outputs": []
    },
    {
      "cell_type": "code",
      "source": [
        "df_fev = pd.read_csv('/content/drive/My Drive/SERVIDORES_CE/2023/servidores_202302.csv', low_memory=False, sep=',' , names = colnames_fev, header= None )"
      ],
      "metadata": {
        "id": "S6B6CgjAdwTf"
      },
      "execution_count": null,
      "outputs": []
    },
    {
      "cell_type": "code",
      "source": [
        "# Função para calcular o hash MD5\n",
        "def calcular_md5(valor):\n",
        "    return hashlib.md5(valor.encode()).hexdigest()"
      ],
      "metadata": {
        "id": "tXOiosIlz1lR"
      },
      "execution_count": null,
      "outputs": []
    },
    {
      "cell_type": "code",
      "source": [
        "df_jan['id_md5'] = df_jan['serv'].apply(calcular_md5)"
      ],
      "metadata": {
        "id": "e8mOlLjrFYaX"
      },
      "execution_count": null,
      "outputs": []
    },
    {
      "cell_type": "code",
      "source": [
        "df_fev['id_md5'] = df_fev['serv'].apply(calcular_md5)"
      ],
      "metadata": {
        "id": "AWAYTo_u07-E"
      },
      "execution_count": null,
      "outputs": []
    },
    {
      "cell_type": "code",
      "source": [
        "#df_jan.head(2)"
      ],
      "metadata": {
        "id": "IeTzvPuBuSsY"
      },
      "execution_count": null,
      "outputs": []
    },
    {
      "cell_type": "code",
      "source": [
        "duplicados = df_jan['id_md5'][df_jan['id_md5'].duplicated(keep='first')]\n",
        "print(duplicados.unique())  # Lista os valores duplicados"
      ],
      "metadata": {
        "colab": {
          "base_uri": "https://localhost:8080/"
        },
        "id": "4AtjQIMz3-Y4",
        "outputId": "3c30ac47-663e-4510-f801-1354bbc345cb"
      },
      "execution_count": null,
      "outputs": [
        {
          "output_type": "stream",
          "name": "stdout",
          "text": [
            "['239d46d924dffd40d36cc843a05f43c3' '6b34393344ab741e70e3ee98b07ba5d4'\n",
            " '278d12aece73ecaf5c16e3b1b700700d' ... 'b5d2483562f8b698f1707c5a64231276'\n",
            " '4723bde1e89e336be7b5f6c12f282011' '9c6a7123df2fabd849bbb133d10999e5']\n"
          ]
        }
      ]
    },
    {
      "cell_type": "code",
      "source": [
        "duplicados_nomes = df_jan['serv'][df_jan['serv'].duplicated(keep='first')]\n",
        "print(duplicados_nomes.unique())  # Lista os valores duplic\n",
        "\n"
      ],
      "metadata": {
        "colab": {
          "base_uri": "https://localhost:8080/"
        },
        "id": "GzmX_5AZ137T",
        "outputId": "6c6366ea-4b6b-44e2-9a62-a25b49784e19"
      },
      "execution_count": null,
      "outputs": [
        {
          "output_type": "stream",
          "name": "stdout",
          "text": [
            "['FRANCISCO GOMES DA SILVA' 'MARIA DAS GRACAS PINHEIRO'\n",
            " 'FRANCISCO JOSE DA SILVA' ... 'JOSE CUNHA DE OLIVEIRA'\n",
            " 'FRANCISCO WALMIR DA SILVA' 'COSME RODRIGUES BRAGA']\n"
          ]
        }
      ]
    },
    {
      "cell_type": "code",
      "source": [
        "print(df_jan['serv'].value_counts().sort_values(ascending=False))"
      ],
      "metadata": {
        "colab": {
          "base_uri": "https://localhost:8080/"
        },
        "id": "Iz5firA62Yw-",
        "outputId": "d38aaba5-8360-4e07-a449-0ba401a67b96"
      },
      "execution_count": null,
      "outputs": [
        {
          "output_type": "stream",
          "name": "stdout",
          "text": [
            "serv\n",
            "MARIA DE FATIMA DA SILVA              26\n",
            "MARIA JOSE DA SILVA                   22\n",
            "MARIA DO SOCORRO DA SILVA             20\n",
            "RAIMUNDO NONATO DA SILVA              20\n",
            "MARIA DE LOURDES DA SILVA             20\n",
            "                                      ..\n",
            "PEDRO HENRIQUE CARVALHO DE ALMEIDA     1\n",
            "LUIZ GUSTAVO SOLA TORRES               1\n",
            "JULIA EMILLY DE SA MENEZES LUCENA      1\n",
            "DEBORA RIBEIRO HOLANDA                 1\n",
            "YRWANA ALBUQUERQUE GUERRA              1\n",
            "Name: count, Length: 147678, dtype: int64\n"
          ]
        }
      ]
    },
    {
      "cell_type": "code",
      "source": [
        " # Ver distribuição de atributos\n",
        "#df_jan['cargo_jan'].unique().tolist()"
      ],
      "metadata": {
        "id": "-6vexwQk4rQI"
      },
      "execution_count": null,
      "outputs": []
    },
    {
      "cell_type": "code",
      "source": [
        "df_jav_fev = pd.concat([df_jan.set_index('A'),df2.set_index('A')], axis=1, join='inner')"
      ],
      "metadata": {
        "id": "EVmjWf-mvHj-"
      },
      "execution_count": null,
      "outputs": []
    },
    {
      "cell_type": "code",
      "source": [
        "display(pd.concat([df_jan, df_fev],  ignore_index = True))"
      ],
      "metadata": {
        "id": "QJB7kWTtdUWg"
      },
      "execution_count": null,
      "outputs": []
    },
    {
      "cell_type": "code",
      "source": [],
      "metadata": {
        "id": "HxYwQD4cd4UI"
      },
      "execution_count": null,
      "outputs": []
    },
    {
      "cell_type": "code",
      "source": [
        "df_jan.loc[df_jan['situacao'] == 'Pensionista']"
      ],
      "metadata": {
        "id": "nw5y1LAwmTw7"
      },
      "execution_count": null,
      "outputs": []
    },
    {
      "cell_type": "code",
      "source": [
        "df_jan.loc[df_jan['cargo-funcao'] == 'COORDENADOR ESCOLAR']"
      ],
      "metadata": {
        "id": "6XB6A30vm_3t"
      },
      "execution_count": null,
      "outputs": []
    },
    {
      "cell_type": "code",
      "source": [
        "#df_maiores_gov = np.where ( df_jan['salario_bruto'] > 21.000)\n",
        "#df_jan[ df_jan['salario_bruto'] > 21.000  ]\n",
        "\n",
        "#df_maior = np.where( ( df_jan['salario_bruto'] > 21.000) )\n",
        "\n",
        "df_jan[(df_jan['salario_bruto'] > 21000.00)]"
      ],
      "metadata": {
        "id": "n4INlfe6oDyZ"
      },
      "execution_count": null,
      "outputs": []
    },
    {
      "cell_type": "code",
      "source": [
        "df_jan[(df_jan['salario_liquido'] > 30000.00)]"
      ],
      "metadata": {
        "id": "hrAx9FbTFTG8"
      },
      "execution_count": null,
      "outputs": []
    },
    {
      "cell_type": "code",
      "source": [],
      "metadata": {
        "id": "upBrNuiLHf6w"
      },
      "execution_count": null,
      "outputs": []
    }
  ]
}